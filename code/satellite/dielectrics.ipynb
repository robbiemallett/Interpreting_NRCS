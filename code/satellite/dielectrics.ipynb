{
 "cells": [
  {
   "cell_type": "code",
   "execution_count": 1,
   "id": "de07153c",
   "metadata": {},
   "outputs": [],
   "source": [
    "from smrt import permittivity"
   ]
  },
  {
   "cell_type": "code",
   "execution_count": 7,
   "id": "f4a91a71",
   "metadata": {},
   "outputs": [
    {
     "data": {
      "text/plain": [
       "<module 'smrt.permittivity.saline_ice' from '/home/robbie/smrt/smrt/permittivity/saline_ice.py'>"
      ]
     },
     "execution_count": 7,
     "metadata": {},
     "output_type": "execute_result"
    }
   ],
   "source": [
    "permittivity."
   ]
  }
 ],
 "metadata": {
  "kernelspec": {
   "display_name": "Python 3 (ipykernel)",
   "language": "python",
   "name": "python3"
  },
  "language_info": {
   "codemirror_mode": {
    "name": "ipython",
    "version": 3
   },
   "file_extension": ".py",
   "mimetype": "text/x-python",
   "name": "python",
   "nbconvert_exporter": "python",
   "pygments_lexer": "ipython3",
   "version": "3.9.17"
  }
 },
 "nbformat": 4,
 "nbformat_minor": 5
}
