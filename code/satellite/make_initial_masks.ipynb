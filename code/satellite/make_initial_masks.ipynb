{
 "cells": [
  {
   "cell_type": "code",
   "execution_count": 5,
   "id": "8b21b8f1-5f94-4f78-b04a-7ddde58b3584",
   "metadata": {
    "tags": []
   },
   "outputs": [],
   "source": [
    "import pickle\n",
    "import numpy as np\n",
    "import matplotlib.pyplot as plt\n",
    "import pandas as pd\n",
    "from netCDF4 import Dataset\n",
    "import os\n",
    "import tqdm\n",
    "import datetime\n",
    "\n",
    "server_dir = '/home/robbie/uit_mnt'\n",
    "satam_directory = f'{server_dir}/Data/romal7177/ResearchData/IFT/EarthObservation/SatelliteAltimetry/'\n",
    "scratch=f'{server_dir}/scratch/robbie/nrcs/pickles'\n",
    "nh_it_dir=f'{satam_directory}OSISAF Sea Ice Type'\n",
    "\n",
    "sh_it_dir = f'{server_dir}/scratch/robbie/osi_type'\n",
    "x = Dataset(f'{sh_it_dir}/06/ice_type_sh_polstere-100_multi_201106021200.nc')\n",
    "sh_latgrid = np.array(x['lat'])"
   ]
  },
  {
   "cell_type": "code",
   "execution_count": 3,
   "id": "b28000d5-101c-4019-8648-a656dc8a84e2",
   "metadata": {
    "tags": []
   },
   "outputs": [],
   "source": [
    "october_masks = {}\n",
    "\n",
    "for year in np.arange(2010,2023):\n",
    "    \n",
    "    month_folder = f'{nh_it_dir}/{year}/10/'\n",
    "    \n",
    "    type_string = f'{year}{10}01'\n",
    "    \n",
    "    f = f'ice_type_nh_polstere-100_multi_{type_string}1200.nc'\n",
    "\n",
    "    d_type = Dataset(f'{month_folder}{f}')\n",
    "    \n",
    "    longrid = np.array(d_type['lon'])\n",
    "    latgrid = np.array(d_type['lat'])\n",
    "    \n",
    "    ice_type = np.array(d_type['ice_type'][0])\n",
    "    ice_type[ice_type<2] = 0\n",
    "    ice_type[ice_type>4] = 0\n",
    "    ice_type[ice_type>0] = 1\n",
    "    ice_type[latgrid>87] = 1\n",
    "    \n",
    "    october_masks[year] = ice_type\n",
    "\n",
    "nh_longrid = np.array(d_type['lon'])\n",
    "nh_latgrid = np.array(d_type['lat'])\n",
    "\n",
    "nh_masks = {'nh_longrid':nh_longrid,'nh_latgrid':nh_latgrid,'masks':october_masks}\n",
    "\n",
    "pickle.dump(nh_masks,open('nh_masks','wb'))"
   ]
  },
  {
   "cell_type": "code",
   "execution_count": 10,
   "id": "bf503d85-6d12-4787-b21e-438e8321a6c7",
   "metadata": {
    "tags": []
   },
   "outputs": [],
   "source": [
    "october_masks = {}\n",
    "\n",
    "for year in np.arange(2010,2023):\n",
    "    \n",
    "    month_folder = f'{sh_it_dir}/10/'\n",
    "    \n",
    "    type_string = f'{year}{10}01'\n",
    "    \n",
    "    f = f'ice_type_sh_polstere-100_multi_{type_string}1200.nc'\n",
    "\n",
    "    d_type = Dataset(f'{month_folder}{f}')\n",
    "    \n",
    "    longrid = np.array(d_type['lon'])\n",
    "    latgrid = np.array(d_type['lat'])\n",
    "    \n",
    "    ice_type = np.array(d_type['ice_type'][0])\n",
    "    ice_type[ice_type<2] = 0\n",
    "    ice_type[ice_type>4] = 0\n",
    "    ice_type[ice_type>0] = 1\n",
    "    ice_type[latgrid>87] = 1\n",
    "    \n",
    "    october_masks[year] = ice_type"
   ]
  },
  {
   "cell_type": "code",
   "execution_count": 12,
   "id": "de6d7cfb-1a60-46dc-a5b4-e58b99b75943",
   "metadata": {
    "tags": []
   },
   "outputs": [],
   "source": [
    "sh_longrid = np.array(d_type['lon'])\n",
    "sh_latgrid = np.array(d_type['lat'])\n",
    "\n",
    "sh_masks = {'sh_longrid':sh_longrid,'sh_latgrid':sh_latgrid,'masks':october_masks}\n",
    "\n",
    "pickle.dump(sh_masks,open('sh_masks','wb'))"
   ]
  },
  {
   "cell_type": "code",
   "execution_count": 13,
   "id": "35f4f4b0-c88e-4fa1-8775-6d402495880d",
   "metadata": {
    "tags": []
   },
   "outputs": [
    {
     "data": {
      "text/plain": [
       "{2010: array([[0, 0, 0, ..., 0, 0, 0],\n",
       "        [0, 0, 0, ..., 0, 0, 0],\n",
       "        [0, 0, 0, ..., 0, 0, 0],\n",
       "        ...,\n",
       "        [0, 0, 0, ..., 0, 0, 0],\n",
       "        [0, 0, 0, ..., 0, 0, 0],\n",
       "        [0, 0, 0, ..., 0, 0, 0]], dtype=int8),\n",
       " 2011: array([[0, 0, 0, ..., 0, 0, 0],\n",
       "        [0, 0, 0, ..., 0, 0, 0],\n",
       "        [0, 0, 0, ..., 0, 0, 0],\n",
       "        ...,\n",
       "        [0, 0, 0, ..., 0, 0, 0],\n",
       "        [0, 0, 0, ..., 0, 0, 0],\n",
       "        [0, 0, 0, ..., 0, 0, 0]], dtype=int8)}"
      ]
     },
     "execution_count": 13,
     "metadata": {},
     "output_type": "execute_result"
    }
   ],
   "source": [
    "october_masks"
   ]
  },
  {
   "cell_type": "code",
   "execution_count": null,
   "id": "18ee5751-f4cb-4d19-bcfc-455b090fd346",
   "metadata": {},
   "outputs": [],
   "source": []
  },
  {
   "cell_type": "code",
   "execution_count": 20,
   "id": "5ba631ef-ee4b-4831-aacd-255011411705",
   "metadata": {
    "tags": []
   },
   "outputs": [
    {
     "data": {
      "text/plain": [
       "<class 'netCDF4._netCDF4.Variable'>\n",
       "int8 ice_type(time, yc, xc)\n",
       "    long_name: sea ice type\n",
       "    standard_name: sea_ice_classification\n",
       "    _FillValue: -1\n",
       "    grid_mapping: Polar_Stereographic_Grid\n",
       "    coordinates: lat lon\n",
       "    flag_values: [1 2 3 4]\n",
       "    flag_meanings: open_water first_year_ice multi_year_ice ambiguous\n",
       "    flag_descriptions: \n",
       "  1 -> no ice or very open ice \n",
       "  2 -> relatively young ice\n",
       "  3 -> ice that survived a summer melt\n",
       "  4 -> ambiguous ice type\n",
       "unlimited dimensions: \n",
       "current shape = (1, 830, 790)\n",
       "filling on"
      ]
     },
     "execution_count": 20,
     "metadata": {},
     "output_type": "execute_result"
    }
   ],
   "source": [
    "d['ice_type']"
   ]
  },
  {
   "cell_type": "code",
   "execution_count": 24,
   "id": "e60fab28-3d50-4281-a6cb-407327d13831",
   "metadata": {
    "tags": []
   },
   "outputs": [
    {
     "data": {
      "text/plain": [
       "<matplotlib.colorbar.Colorbar at 0x7f8447fe8bd0>"
      ]
     },
     "execution_count": 24,
     "metadata": {},
     "output_type": "execute_result"
    },
    {
     "data": {
      "image/png": "[encoded data removed]",
      "text/plain": [
       "<Figure size 640x480 with 2 Axes>"
      ]
     },
     "metadata": {},
     "output_type": "display_data"
    }
   ],
   "source": [
    "d = Dataset('/home/robbie/uit_mnt/scratch/robbie/osi_type/02/ice_type_sh_polstere-100_multi_201102021200.nc')\n",
    "ice_type = np.array(d['ice_type'][0])\n",
    "plt.imshow(ice_type)\n",
    "plt.colorbar()"
   ]
  },
  {
   "cell_type": "code",
   "execution_count": null,
   "id": "0070faab-a47a-48a9-ae02-2b3e687a1b43",
   "metadata": {},
   "outputs": [],
   "source": []
  }
 ],
 "metadata": {
  "kernelspec": {
   "display_name": "Python 3 (ipykernel)",
   "language": "python",
   "name": "python3"
  },
  "language_info": {
   "codemirror_mode": {
    "name": "ipython",
    "version": 3
   },
   "file_extension": ".py",
   "mimetype": "text/x-python",
   "name": "python",
   "nbconvert_exporter": "python",
   "pygments_lexer": "ipython3",
   "version": "3.11.5"
  }
 },
 "nbformat": 4,
 "nbformat_minor": 5
}
